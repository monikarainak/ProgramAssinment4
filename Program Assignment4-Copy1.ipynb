{
 "cells": [
  {
   "cell_type": "markdown",
   "id": "fe004019",
   "metadata": {},
   "source": [
    "1. Write a Python Program to Find the Factorial of a Number?"
   ]
  },
  {
   "cell_type": "code",
   "execution_count": 2,
   "id": "707da568",
   "metadata": {},
   "outputs": [
    {
     "name": "stdout",
     "output_type": "stream",
     "text": [
      "Enter a Number:4\n",
      "Factorial of number is: 24\n"
     ]
    }
   ],
   "source": [
    "num=int(input(\"Enter a Number:\"))\n",
    "fact=1\n",
    "if num<0:\n",
    "    print(\"Factorial does not exist for negative number\")\n",
    "if num==0:\n",
    "    print(\"Factorial of 0 is 1\")\n",
    "if num > 1:\n",
    "    for i in range(1,num+1):\n",
    "        fact=fact*i\n",
    "    print(\"Factorial of number is:\",fact)"
   ]
  },
  {
   "cell_type": "markdown",
   "id": "e8147b5e",
   "metadata": {},
   "source": [
    "2. Write a Python Program to Display the multiplication Table?"
   ]
  },
  {
   "cell_type": "code",
   "execution_count": 4,
   "id": "568d0b07",
   "metadata": {},
   "outputs": [
    {
     "name": "stdout",
     "output_type": "stream",
     "text": [
      "Enter a number:2\n",
      "2\n",
      "4\n",
      "6\n",
      "8\n",
      "10\n",
      "12\n",
      "14\n",
      "16\n",
      "18\n",
      "20\n"
     ]
    }
   ],
   "source": [
    "num=int(input(\"Enter a number:\"))\n",
    "for i in range(1,11):\n",
    "    print(num*i)"
   ]
  },
  {
   "cell_type": "markdown",
   "id": "30faba02",
   "metadata": {},
   "source": [
    "3. Write a Python Program to Print the Fibonacci sequence?"
   ]
  },
  {
   "cell_type": "code",
   "execution_count": null,
   "id": "3603cb6a",
   "metadata": {},
   "outputs": [],
   "source": [
    "\n",
    "    \n"
   ]
  },
  {
   "cell_type": "code",
   "execution_count": 1,
   "id": "ffeb3111",
   "metadata": {},
   "outputs": [],
   "source": [
    "def fibonacci(num):\n",
    "    a = 0\n",
    "    b = 1\n",
    "    \n",
    "    if num < 0:\n",
    "        print(\"Incorrect input\")\n",
    "         \n",
    "    elif num == 0:\n",
    "        return 0\n",
    "       \n",
    "    elif num == 1:\n",
    "        return b\n",
    "    else:\n",
    "        for i in range(1, num):\n",
    "            c = a + b\n",
    "            a = b\n",
    "            b = c\n",
    "        return b"
   ]
  },
  {
   "cell_type": "code",
   "execution_count": 2,
   "id": "4fff1b62",
   "metadata": {},
   "outputs": [
    {
     "name": "stdout",
     "output_type": "stream",
     "text": [
      "34\n"
     ]
    }
   ],
   "source": [
    "print(fibonacci(9))"
   ]
  },
  {
   "cell_type": "code",
   "execution_count": 3,
   "id": "a7a0c259",
   "metadata": {},
   "outputs": [
    {
     "name": "stdout",
     "output_type": "stream",
     "text": [
      "Object `Number` not found.\n"
     ]
    }
   ],
   "source": [
    "Write a Python Program to Check Armstrong Number?"
   ]
  },
  {
   "cell_type": "code",
   "execution_count": null,
   "id": "4d85dd29",
   "metadata": {},
   "outputs": [],
   "source": [
    "Write a Python Program to Check Armstrong Number"
   ]
  },
  {
   "cell_type": "code",
   "execution_count": 9,
   "id": "5c39e443",
   "metadata": {},
   "outputs": [
    {
     "name": "stdout",
     "output_type": "stream",
     "text": [
      "Enter a number: 153\n",
      "153 is an Armstrong number\n"
     ]
    }
   ],
   "source": [
    "\n",
    "num = int(input(\"Enter a number: \"))\n",
    "sum = 0\n",
    "temp = num\n",
    "while temp > 0:\n",
    "   digit = temp % 10\n",
    "   sum += digit ** 3\n",
    "   temp = temp//10\n",
    "if num == sum:\n",
    "   print(num,\"is an Armstrong number\")\n",
    "else:\n",
    "   print(num,\"is not an Armstrong number\")"
   ]
  },
  {
   "cell_type": "markdown",
   "id": "033a0896",
   "metadata": {},
   "source": [
    "5. Write a Python Program to Find Armstrong Number in an Interval?"
   ]
  },
  {
   "cell_type": "code",
   "execution_count": 10,
   "id": "53d3abb0",
   "metadata": {},
   "outputs": [
    {
     "name": "stdout",
     "output_type": "stream",
     "text": [
      "100\n",
      "2000\n",
      "153\n",
      "370\n",
      "371\n",
      "407\n",
      "1634\n"
     ]
    }
   ],
   "source": [
    "lower=int(input())\n",
    "upper=int(input())\n",
    "\n",
    "for n in range(lower, upper+1):\n",
    "    order=len(str(n))\n",
    "    \n",
    "    sum=0\n",
    "    temp=n\n",
    "    while temp > 0:\n",
    "        digit=temp % 10\n",
    "        sum +=digit**order\n",
    "        temp=temp//10\n",
    "    if n==sum:\n",
    "        print(n)"
   ]
  },
  {
   "cell_type": "markdown",
   "id": "2c96466e",
   "metadata": {},
   "source": [
    "6. Write a Python Program to Find the Sum of Natural Numbers?"
   ]
  },
  {
   "cell_type": "code",
   "execution_count": 1,
   "id": "3f48ef3c",
   "metadata": {},
   "outputs": [
    {
     "name": "stdout",
     "output_type": "stream",
     "text": [
      "16\n",
      "136\n"
     ]
    }
   ],
   "source": [
    "num=int(input())\n",
    "\n",
    "sum=0\n",
    "if num<0:\n",
    "    print(\"You entered Negative number\")\n",
    "else:\n",
    "    while num>0:\n",
    "        sum=sum+num\n",
    "        num=num-1\n",
    "    print(sum)"
   ]
  },
  {
   "cell_type": "code",
   "execution_count": null,
   "id": "0923f373",
   "metadata": {},
   "outputs": [],
   "source": []
  },
  {
   "cell_type": "code",
   "execution_count": null,
   "id": "bcdf183d",
   "metadata": {},
   "outputs": [],
   "source": []
  }
 ],
 "metadata": {
  "kernelspec": {
   "display_name": "Python 3 (ipykernel)",
   "language": "python",
   "name": "python3"
  },
  "language_info": {
   "codemirror_mode": {
    "name": "ipython",
    "version": 3
   },
   "file_extension": ".py",
   "mimetype": "text/x-python",
   "name": "python",
   "nbconvert_exporter": "python",
   "pygments_lexer": "ipython3",
   "version": "3.9.7"
  }
 },
 "nbformat": 4,
 "nbformat_minor": 5
}
